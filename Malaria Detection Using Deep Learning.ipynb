{
 "cells": [
  {
   "cell_type": "code",
   "execution_count": 1,
   "metadata": {},
   "outputs": [
    {
     "data": {
      "text/plain": [
       "'2.2.0'"
      ]
     },
     "execution_count": 1,
     "metadata": {},
     "output_type": "execute_result"
    }
   ],
   "source": [
    "import tensorflow as tf\n",
    "tf.__version__"
   ]
  },
  {
   "cell_type": "code",
   "execution_count": 2,
   "metadata": {},
   "outputs": [],
   "source": [
    "from tensorflow.keras.layers import Input, Dense, Lambda, Flatten, Conv2D\n",
    "from tensorflow.keras.models import Model\n",
    "from tensorflow.keras.applications.vgg19 import VGG19\n",
    "from tensorflow.keras.applications.resnet50 import preprocess_input\n",
    "from tensorflow.keras.preprocessing import image\n",
    "from tensorflow.keras.preprocessing.image import ImageDataGenerator, load_img\n",
    "from tensorflow.keras.models import Sequential\n",
    "import numpy as np\n",
    "from glob import glob\n",
    "import matplotlib.pyplot as plt"
   ]
  },
  {
   "cell_type": "code",
   "execution_count": 3,
   "metadata": {},
   "outputs": [],
   "source": [
    "# resize all images\n",
    "IMAGE_SIZE = [224, 224]\n",
    "\n",
    "train_path = 'Dataset/Train'\n",
    "test_path = 'Dataset/test'"
   ]
  },
  {
   "cell_type": "code",
   "execution_count": 4,
   "metadata": {},
   "outputs": [],
   "source": [
    "# import the vgg19 library as shown below and add preprocessing layer to the front of vgg19\n",
    "# Here we will be using imagenet weights\n",
    "vgg19 = VGG19(input_shape=IMAGE_SIZE + [3], weights='imagenet', include_top=False)"
   ]
  },
  {
   "cell_type": "code",
   "execution_count": 6,
   "metadata": {},
   "outputs": [],
   "source": [
    "# don't train existing weights\n",
    "for layer in vgg19.layers:\n",
    "    layer.trainable = False"
   ]
  },
  {
   "cell_type": "code",
   "execution_count": 7,
   "metadata": {},
   "outputs": [],
   "source": [
    "# useful for getting number of output classes\n",
    "folders = glob(\"Dataset/Train/*\")"
   ]
  },
  {
   "cell_type": "code",
   "execution_count": 8,
   "metadata": {},
   "outputs": [
    {
     "data": {
      "text/plain": [
       "['Dataset/Train/Parasite', 'Dataset/Train/Uninfected']"
      ]
     },
     "execution_count": 8,
     "metadata": {},
     "output_type": "execute_result"
    }
   ],
   "source": [
    "folders"
   ]
  },
  {
   "cell_type": "code",
   "execution_count": 9,
   "metadata": {},
   "outputs": [],
   "source": [
    "# our layers you can add more if you want\n",
    "x = Flatten()(vgg19.output)"
   ]
  },
  {
   "cell_type": "code",
   "execution_count": 10,
   "metadata": {},
   "outputs": [],
   "source": [
    "prediction = Dense(len(folders), activation = 'softmax')(x)\n",
    "\n",
    "# Create a model object\n",
    "model = Model(inputs = vgg19.input, outputs = prediction)"
   ]
  },
  {
   "cell_type": "code",
   "execution_count": 11,
   "metadata": {},
   "outputs": [
    {
     "name": "stdout",
     "output_type": "stream",
     "text": [
      "Model: \"model\"\n",
      "_________________________________________________________________\n",
      "Layer (type)                 Output Shape              Param #   \n",
      "=================================================================\n",
      "input_1 (InputLayer)         [(None, 224, 224, 3)]     0         \n",
      "_________________________________________________________________\n",
      "block1_conv1 (Conv2D)        (None, 224, 224, 64)      1792      \n",
      "_________________________________________________________________\n",
      "block1_conv2 (Conv2D)        (None, 224, 224, 64)      36928     \n",
      "_________________________________________________________________\n",
      "block1_pool (MaxPooling2D)   (None, 112, 112, 64)      0         \n",
      "_________________________________________________________________\n",
      "block2_conv1 (Conv2D)        (None, 112, 112, 128)     73856     \n",
      "_________________________________________________________________\n",
      "block2_conv2 (Conv2D)        (None, 112, 112, 128)     147584    \n",
      "_________________________________________________________________\n",
      "block2_pool (MaxPooling2D)   (None, 56, 56, 128)       0         \n",
      "_________________________________________________________________\n",
      "block3_conv1 (Conv2D)        (None, 56, 56, 256)       295168    \n",
      "_________________________________________________________________\n",
      "block3_conv2 (Conv2D)        (None, 56, 56, 256)       590080    \n",
      "_________________________________________________________________\n",
      "block3_conv3 (Conv2D)        (None, 56, 56, 256)       590080    \n",
      "_________________________________________________________________\n",
      "block3_conv4 (Conv2D)        (None, 56, 56, 256)       590080    \n",
      "_________________________________________________________________\n",
      "block3_pool (MaxPooling2D)   (None, 28, 28, 256)       0         \n",
      "_________________________________________________________________\n",
      "block4_conv1 (Conv2D)        (None, 28, 28, 512)       1180160   \n",
      "_________________________________________________________________\n",
      "block4_conv2 (Conv2D)        (None, 28, 28, 512)       2359808   \n",
      "_________________________________________________________________\n",
      "block4_conv3 (Conv2D)        (None, 28, 28, 512)       2359808   \n",
      "_________________________________________________________________\n",
      "block4_conv4 (Conv2D)        (None, 28, 28, 512)       2359808   \n",
      "_________________________________________________________________\n",
      "block4_pool (MaxPooling2D)   (None, 14, 14, 512)       0         \n",
      "_________________________________________________________________\n",
      "block5_conv1 (Conv2D)        (None, 14, 14, 512)       2359808   \n",
      "_________________________________________________________________\n",
      "block5_conv2 (Conv2D)        (None, 14, 14, 512)       2359808   \n",
      "_________________________________________________________________\n",
      "block5_conv3 (Conv2D)        (None, 14, 14, 512)       2359808   \n",
      "_________________________________________________________________\n",
      "block5_conv4 (Conv2D)        (None, 14, 14, 512)       2359808   \n",
      "_________________________________________________________________\n",
      "block5_pool (MaxPooling2D)   (None, 7, 7, 512)         0         \n",
      "_________________________________________________________________\n",
      "flatten (Flatten)            (None, 25088)             0         \n",
      "_________________________________________________________________\n",
      "dense (Dense)                (None, 2)                 50178     \n",
      "=================================================================\n",
      "Total params: 20,074,562\n",
      "Trainable params: 50,178\n",
      "Non-trainable params: 20,024,384\n",
      "_________________________________________________________________\n"
     ]
    }
   ],
   "source": [
    "model.summary()"
   ]
  },
  {
   "cell_type": "code",
   "execution_count": 12,
   "metadata": {},
   "outputs": [],
   "source": [
    "from tensorflow.keras.layers import MaxPooling2D"
   ]
  },
  {
   "cell_type": "code",
   "execution_count": 15,
   "metadata": {},
   "outputs": [
    {
     "name": "stdout",
     "output_type": "stream",
     "text": [
      "Model: \"sequential_1\"\n",
      "_________________________________________________________________\n",
      "Layer (type)                 Output Shape              Param #   \n",
      "=================================================================\n",
      "conv2d_1 (Conv2D)            (None, 224, 224, 16)      208       \n",
      "_________________________________________________________________\n",
      "max_pooling2d (MaxPooling2D) (None, 112, 112, 16)      0         \n",
      "_________________________________________________________________\n",
      "conv2d_2 (Conv2D)            (None, 112, 112, 32)      2080      \n",
      "_________________________________________________________________\n",
      "max_pooling2d_1 (MaxPooling2 (None, 56, 56, 32)        0         \n",
      "_________________________________________________________________\n",
      "conv2d_3 (Conv2D)            (None, 56, 56, 64)        8256      \n",
      "_________________________________________________________________\n",
      "max_pooling2d_2 (MaxPooling2 (None, 28, 28, 64)        0         \n",
      "_________________________________________________________________\n",
      "flatten_1 (Flatten)          (None, 50176)             0         \n",
      "_________________________________________________________________\n",
      "dense_1 (Dense)              (None, 500)               25088500  \n",
      "_________________________________________________________________\n",
      "dense_2 (Dense)              (None, 2)                 1002      \n",
      "=================================================================\n",
      "Total params: 25,100,046\n",
      "Trainable params: 25,100,046\n",
      "Non-trainable params: 0\n",
      "_________________________________________________________________\n"
     ]
    }
   ],
   "source": [
    "# Create model from scratch using CNN\n",
    "model = Sequential()\n",
    "model.add(Conv2D(filters = 16, kernel_size = 2, padding = 'same', activation = 'relu', input_shape = (224, 224, 3)))\n",
    "model.add(MaxPooling2D(pool_size = 2))\n",
    "model.add(Conv2D(filters = 32, kernel_size = 2, padding = 'same', activation = 'relu'))\n",
    "model.add(MaxPooling2D(pool_size = 2))\n",
    "model.add(Conv2D(filters = 64, kernel_size = 2, padding = 'same', activation = 'relu'))\n",
    "model.add(MaxPooling2D(pool_size = 2))\n",
    "model.add(Flatten())\n",
    "model.add(Dense(500, activation = 'relu'))\n",
    "model.add(Dense(2, activation = 'softmax'))\n",
    "model.summary()"
   ]
  },
  {
   "cell_type": "code",
   "execution_count": 16,
   "metadata": {},
   "outputs": [],
   "source": [
    "# tell the model what cost and optimization method to use\n",
    "model.compile(loss = 'categorical_crossentropy',\n",
    "             optimizer='adam',\n",
    "             metrics=['accuracy'])"
   ]
  },
  {
   "cell_type": "code",
   "execution_count": 17,
   "metadata": {},
   "outputs": [],
   "source": [
    "# use the image data generator to import the images from the datase\n",
    "from tensorflow.keras.preprocessing.image import ImageDataGenerator\n",
    "\n",
    "train_datagen = ImageDataGenerator(rescale=1./255,\n",
    "                                  shear_range=0.2,\n",
    "                                  zoom_range=0.2,\n",
    "                                  horizontal_flip=True)\n",
    "test_datagen = ImageDataGenerator(rescale=1./255)"
   ]
  },
  {
   "cell_type": "code",
   "execution_count": 18,
   "metadata": {},
   "outputs": [
    {
     "name": "stdout",
     "output_type": "stream",
     "text": [
      "Found 416 images belonging to 2 classes.\n"
     ]
    }
   ],
   "source": [
    "# Make sure you provide the same target size as initialized for the image size\n",
    "training_set = train_datagen.flow_from_directory('Dataset/Train',\n",
    "                                                target_size = (224, 224),\n",
    "                                                batch_size = 32,\n",
    "                                                class_mode = 'categorical')"
   ]
  },
  {
   "cell_type": "code",
   "execution_count": 19,
   "metadata": {},
   "outputs": [
    {
     "data": {
      "text/plain": [
       "<keras_preprocessing.image.directory_iterator.DirectoryIterator at 0x7f152236d8d0>"
      ]
     },
     "execution_count": 19,
     "metadata": {},
     "output_type": "execute_result"
    }
   ],
   "source": [
    "training_set"
   ]
  },
  {
   "cell_type": "code",
   "execution_count": 20,
   "metadata": {},
   "outputs": [
    {
     "name": "stdout",
     "output_type": "stream",
     "text": [
      "Found 134 images belonging to 2 classes.\n"
     ]
    }
   ],
   "source": [
    "test_set = test_datagen.flow_from_directory('Dataset/Test',\n",
    "                                           target_size=(224, 224),\n",
    "                                           batch_size=32,\n",
    "                                           class_mode='categorical')"
   ]
  },
  {
   "cell_type": "code",
   "execution_count": 22,
   "metadata": {},
   "outputs": [
    {
     "name": "stdout",
     "output_type": "stream",
     "text": [
      "Epoch 1/10\n",
      "13/13 [==============================] - 20s 2s/step - loss: 0.4500 - accuracy: 0.7740 - val_loss: 0.9888 - val_accuracy: 0.3806\n",
      "Epoch 2/10\n",
      "13/13 [==============================] - 19s 1s/step - loss: 0.4451 - accuracy: 0.7692 - val_loss: 0.7819 - val_accuracy: 0.4627\n",
      "Epoch 3/10\n",
      "13/13 [==============================] - 20s 2s/step - loss: 0.3850 - accuracy: 0.8269 - val_loss: 0.7204 - val_accuracy: 0.5000\n",
      "Epoch 4/10\n",
      "13/13 [==============================] - 20s 2s/step - loss: 0.3320 - accuracy: 0.8654 - val_loss: 0.6283 - val_accuracy: 0.6567\n",
      "Epoch 5/10\n",
      "13/13 [==============================] - 20s 2s/step - loss: 0.3765 - accuracy: 0.8510 - val_loss: 0.5776 - val_accuracy: 0.6567\n",
      "Epoch 6/10\n",
      "13/13 [==============================] - 20s 2s/step - loss: 0.3524 - accuracy: 0.8726 - val_loss: 0.4986 - val_accuracy: 0.6866\n",
      "Epoch 7/10\n",
      "13/13 [==============================] - 21s 2s/step - loss: 0.3064 - accuracy: 0.8606 - val_loss: 0.4625 - val_accuracy: 0.7910\n",
      "Epoch 8/10\n",
      "13/13 [==============================] - 22s 2s/step - loss: 0.2185 - accuracy: 0.9207 - val_loss: 0.4559 - val_accuracy: 0.7836\n",
      "Epoch 9/10\n",
      "13/13 [==============================] - 27s 2s/step - loss: 0.1882 - accuracy: 0.9279 - val_loss: 0.3012 - val_accuracy: 0.8881\n",
      "Epoch 10/10\n",
      "13/13 [==============================] - 25s 2s/step - loss: 0.1629 - accuracy: 0.9447 - val_loss: 0.3350 - val_accuracy: 0.8657\n"
     ]
    }
   ],
   "source": [
    "# fit the model\n",
    "# Run the cell. It will take some time to execute\n",
    "r = model.fit_generator(training_set,\n",
    "                       validation_data = test_set,\n",
    "                       epochs = 10,\n",
    "                       steps_per_epoch = len(training_set),\n",
    "                       validation_steps = len(test_set))"
   ]
  },
  {
   "cell_type": "code",
   "execution_count": 23,
   "metadata": {},
   "outputs": [
    {
     "data": {
      "image/png": "[encoded data removed]",
      "text/plain": [
       "<Figure size 432x288 with 1 Axes>"
      ]
     },
     "metadata": {
      "needs_background": "light"
     },
     "output_type": "display_data"
    },
    {
     "data": {
      "image/png": "[encoded data removed]",
      "text/plain": [
       "<Figure size 432x288 with 1 Axes>"
      ]
     },
     "metadata": {
      "needs_background": "light"
     },
     "output_type": "display_data"
    },
    {
     "data": {
      "text/plain": [
       "<Figure size 432x288 with 0 Axes>"
      ]
     },
     "metadata": {},
     "output_type": "display_data"
    }
   ],
   "source": [
    "# plot the loss\n",
    "plt.plot(r.history['loss'], label = 'train loss')\n",
    "plt.plot(r.history['val_loss'], label = 'val loss')\n",
    "plt.legend()\n",
    "plt.show()\n",
    "plt.savefig('LossVal_loss')\n",
    "\n",
    "# plot the accuracy\n",
    "plt.plot(r.history['accuracy'], label = 'train acc')\n",
    "plt.plot(r.history['val_accuracy'], label = 'val acc')\n",
    "plt.legend()\n",
    "plt.show()\n",
    "plt.savefig('AccVal_acc')"
   ]
  },
  {
   "cell_type": "code",
   "execution_count": 25,
   "metadata": {},
   "outputs": [],
   "source": [
    "# save it as h5 file\n",
    "from tensorflow.keras.models import load_model\n",
    "model.save('model_vgg19.h5')"
   ]
  },
  {
   "cell_type": "code",
   "execution_count": 26,
   "metadata": {},
   "outputs": [],
   "source": [
    "y_pred = model.predict(test_set)"
   ]
  },
  {
   "cell_type": "code",
   "execution_count": 27,
   "metadata": {},
   "outputs": [
    {
     "data": {
      "text/plain": [
       "array([[1.68377534e-01, 8.31622422e-01],\n",
       "       [9.99494076e-01, 5.05953794e-04],\n",
       "       [9.19760346e-01, 8.02396238e-02],\n",
       "       [9.99831080e-01, 1.68865474e-04],\n",
       "       [9.95946944e-01, 4.05309629e-03],\n",
       "       [2.67940998e-01, 7.32058942e-01],\n",
       "       [9.99273241e-01, 7.26825849e-04],\n",
       "       [1.91573963e-01, 8.08426082e-01],\n",
       "       [3.23576421e-01, 6.76423550e-01],\n",
       "       [1.73689574e-01, 8.26310456e-01],\n",
       "       [1.10066280e-01, 8.89933765e-01],\n",
       "       [8.87326181e-01, 1.12673834e-01],\n",
       "       [9.98866200e-01, 1.13380281e-03],\n",
       "       [4.86097872e-01, 5.13902187e-01],\n",
       "       [1.00000000e+00, 3.66201791e-10],\n",
       "       [1.47453070e-01, 8.52546930e-01],\n",
       "       [8.86885285e-01, 1.13114707e-01],\n",
       "       [9.51092601e-01, 4.89074178e-02],\n",
       "       [2.64550030e-01, 7.35449910e-01],\n",
       "       [1.43647984e-01, 8.56352031e-01],\n",
       "       [8.42064500e-01, 1.57935441e-01],\n",
       "       [1.82438463e-01, 8.17561507e-01],\n",
       "       [6.87306583e-01, 3.12693357e-01],\n",
       "       [9.99971032e-01, 2.90053049e-05],\n",
       "       [9.65935141e-02, 9.03406501e-01],\n",
       "       [9.99942899e-01, 5.70397206e-05],\n",
       "       [1.36000142e-01, 8.63999844e-01],\n",
       "       [2.22343743e-01, 7.77656198e-01],\n",
       "       [1.74551636e-01, 8.25448334e-01],\n",
       "       [5.82357764e-01, 4.17642236e-01],\n",
       "       [8.37369621e-01, 1.62630334e-01],\n",
       "       [9.98832881e-01, 1.16715988e-03],\n",
       "       [9.97793078e-01, 2.20691296e-03],\n",
       "       [5.50084114e-01, 4.49915826e-01],\n",
       "       [8.85890305e-01, 1.14109710e-01],\n",
       "       [8.12109590e-01, 1.87890410e-01],\n",
       "       [9.90414739e-01, 9.58526228e-03],\n",
       "       [9.85339642e-01, 1.46604320e-02],\n",
       "       [7.48708844e-01, 2.51291186e-01],\n",
       "       [2.48392493e-01, 7.51607537e-01],\n",
       "       [9.68878686e-01, 3.11212689e-02],\n",
       "       [2.12467462e-01, 7.87532568e-01],\n",
       "       [9.99970436e-01, 2.96017770e-05],\n",
       "       [9.98122156e-01, 1.87782117e-03],\n",
       "       [9.38674808e-01, 6.13252595e-02],\n",
       "       [1.61549792e-01, 8.38450193e-01],\n",
       "       [9.99946833e-01, 5.31075275e-05],\n",
       "       [3.20703268e-01, 6.79296732e-01],\n",
       "       [1.49206743e-01, 8.50793242e-01],\n",
       "       [9.03191924e-01, 9.68080610e-02],\n",
       "       [9.99960661e-01, 3.93551163e-05],\n",
       "       [1.32301718e-01, 8.67698312e-01],\n",
       "       [9.99999881e-01, 1.13624672e-07],\n",
       "       [1.43346027e-01, 8.56653929e-01],\n",
       "       [7.39717364e-01, 2.60282636e-01],\n",
       "       [7.80699030e-02, 9.21930134e-01],\n",
       "       [8.06450620e-02, 9.19354916e-01],\n",
       "       [6.13803387e-01, 3.86196643e-01],\n",
       "       [6.84289873e-01, 3.15710157e-01],\n",
       "       [9.88450289e-01, 1.15497420e-02],\n",
       "       [2.81527162e-01, 7.18472838e-01],\n",
       "       [1.00000000e+00, 2.66140415e-10],\n",
       "       [4.01613832e-01, 5.98386228e-01],\n",
       "       [4.70688850e-01, 5.29311180e-01],\n",
       "       [1.30309358e-01, 8.69690657e-01],\n",
       "       [1.06854007e-01, 8.93145919e-01],\n",
       "       [5.37962094e-02, 9.46203828e-01],\n",
       "       [9.91498888e-01, 8.50108825e-03],\n",
       "       [1.48719102e-01, 8.51280928e-01],\n",
       "       [3.58985424e-01, 6.41014516e-01],\n",
       "       [9.87886786e-01, 1.21132117e-02],\n",
       "       [6.11695945e-01, 3.88304055e-01],\n",
       "       [9.48402643e-01, 5.15973270e-02],\n",
       "       [1.10577002e-01, 8.89423013e-01],\n",
       "       [9.59200680e-01, 4.07992788e-02],\n",
       "       [9.13636863e-01, 8.63631442e-02],\n",
       "       [9.99296308e-01, 7.03704136e-04],\n",
       "       [9.99377549e-01, 6.22445252e-04],\n",
       "       [9.99992490e-01, 7.50112986e-06],\n",
       "       [9.99479115e-01, 5.20952395e-04],\n",
       "       [8.95310715e-02, 9.10468936e-01],\n",
       "       [1.09339125e-01, 8.90660822e-01],\n",
       "       [8.88147116e-01, 1.11852951e-01],\n",
       "       [9.23530310e-02, 9.07647014e-01],\n",
       "       [9.99298334e-01, 7.01633864e-04],\n",
       "       [1.00000000e+00, 3.51454510e-08],\n",
       "       [3.33041877e-01, 6.66958153e-01],\n",
       "       [4.57926035e-01, 5.42073905e-01],\n",
       "       [5.02845883e-01, 4.97154146e-01],\n",
       "       [9.99999166e-01, 8.24599226e-07],\n",
       "       [2.39385456e-01, 7.60614574e-01],\n",
       "       [1.42331272e-01, 8.57668698e-01],\n",
       "       [3.15012038e-01, 6.84987962e-01],\n",
       "       [7.04199970e-01, 2.95800030e-01],\n",
       "       [1.23968974e-01, 8.76031041e-01],\n",
       "       [9.99997377e-01, 2.61265086e-06],\n",
       "       [3.98434967e-01, 6.01565063e-01],\n",
       "       [9.96175289e-01, 3.82471620e-03],\n",
       "       [1.47207960e-01, 8.52792025e-01],\n",
       "       [2.00418323e-01, 7.99581647e-01],\n",
       "       [9.76158023e-01, 2.38419864e-02],\n",
       "       [4.12585288e-01, 5.87414742e-01],\n",
       "       [9.90423501e-01, 9.57643799e-03],\n",
       "       [1.66127175e-01, 8.33872795e-01],\n",
       "       [1.87713027e-01, 8.12286973e-01],\n",
       "       [1.89202189e-01, 8.10797811e-01],\n",
       "       [3.95773888e-01, 6.04226112e-01],\n",
       "       [9.56910014e-01, 4.30900119e-02],\n",
       "       [9.99998569e-01, 1.45351214e-06],\n",
       "       [9.96115208e-01, 3.88481421e-03],\n",
       "       [5.57027340e-01, 4.42972600e-01],\n",
       "       [9.99959350e-01, 4.06553227e-05],\n",
       "       [4.11154091e-01, 5.88845968e-01],\n",
       "       [5.39664686e-01, 4.60335284e-01],\n",
       "       [9.76675034e-01, 2.33250130e-02],\n",
       "       [9.03275847e-01, 9.67241600e-02],\n",
       "       [1.71698987e-01, 8.28300953e-01],\n",
       "       [4.06845003e-01, 5.93155026e-01],\n",
       "       [9.37287331e-01, 6.27126470e-02],\n",
       "       [9.44502115e-01, 5.54978512e-02],\n",
       "       [4.59564835e-01, 5.40435135e-01],\n",
       "       [5.08787692e-01, 4.91212249e-01],\n",
       "       [9.64487970e-01, 3.55120040e-02],\n",
       "       [1.31690711e-01, 8.68309259e-01],\n",
       "       [8.76771092e-01, 1.23228937e-01],\n",
       "       [8.67799640e-01, 1.32200330e-01],\n",
       "       [1.27991557e-01, 8.72008443e-01],\n",
       "       [9.57455456e-01, 4.25445028e-02],\n",
       "       [9.99822438e-01, 1.77639595e-04],\n",
       "       [9.99859333e-01, 1.40705612e-04],\n",
       "       [9.99942780e-01, 5.71583114e-05],\n",
       "       [8.35870862e-01, 1.64129123e-01],\n",
       "       [9.85993624e-01, 1.40064256e-02],\n",
       "       [2.52954066e-01, 7.47045934e-01]], dtype=float32)"
      ]
     },
     "execution_count": 27,
     "metadata": {},
     "output_type": "execute_result"
    }
   ],
   "source": [
    "y_pred"
   ]
  },
  {
   "cell_type": "code",
   "execution_count": 28,
   "metadata": {},
   "outputs": [],
   "source": [
    "import numpy as np\n",
    "y_pred = np.argmax(y_pred, axis = 1)"
   ]
  },
  {
   "cell_type": "code",
   "execution_count": 29,
   "metadata": {},
   "outputs": [
    {
     "data": {
      "text/plain": [
       "array([1, 0, 0, 0, 0, 1, 0, 1, 1, 1, 1, 0, 0, 1, 0, 1, 0, 0, 1, 1, 0, 1,\n",
       "       0, 0, 1, 0, 1, 1, 1, 0, 0, 0, 0, 0, 0, 0, 0, 0, 0, 1, 0, 1, 0, 0,\n",
       "       0, 1, 0, 1, 1, 0, 0, 1, 0, 1, 0, 1, 1, 0, 0, 0, 1, 0, 1, 1, 1, 1,\n",
       "       1, 0, 1, 1, 0, 0, 0, 1, 0, 0, 0, 0, 0, 0, 1, 1, 0, 1, 0, 0, 1, 1,\n",
       "       0, 0, 1, 1, 1, 0, 1, 0, 1, 0, 1, 1, 0, 1, 0, 1, 1, 1, 1, 0, 0, 0,\n",
       "       0, 0, 1, 0, 0, 0, 1, 1, 0, 0, 1, 0, 0, 1, 0, 0, 1, 0, 0, 0, 0, 0,\n",
       "       0, 1])"
      ]
     },
     "execution_count": 29,
     "metadata": {},
     "output_type": "execute_result"
    }
   ],
   "source": [
    "y_pred"
   ]
  },
  {
   "cell_type": "code",
   "execution_count": 30,
   "metadata": {},
   "outputs": [],
   "source": [
    "from tensorflow.keras.models import load_model\n",
    "from tensorflow.keras.preprocessing import image"
   ]
  },
  {
   "cell_type": "code",
   "execution_count": 31,
   "metadata": {},
   "outputs": [],
   "source": [
    "model = load_model('model_vgg19.h5')"
   ]
  },
  {
   "cell_type": "code",
   "execution_count": 32,
   "metadata": {},
   "outputs": [],
   "source": [
    "img = image.load_img('Dataset/Test/Uninfected/2.png', target_size=(224,224))\n"
   ]
  },
  {
   "cell_type": "code",
   "execution_count": 33,
   "metadata": {},
   "outputs": [],
   "source": [
    "x = image.img_to_array(img)"
   ]
  },
  {
   "cell_type": "code",
   "execution_count": 34,
   "metadata": {},
   "outputs": [
    {
     "data": {
      "text/plain": [
       "array([[[0., 0., 0.],\n",
       "        [0., 0., 0.],\n",
       "        [0., 0., 0.],\n",
       "        ...,\n",
       "        [0., 0., 0.],\n",
       "        [0., 0., 0.],\n",
       "        [0., 0., 0.]],\n",
       "\n",
       "       [[0., 0., 0.],\n",
       "        [0., 0., 0.],\n",
       "        [0., 0., 0.],\n",
       "        ...,\n",
       "        [0., 0., 0.],\n",
       "        [0., 0., 0.],\n",
       "        [0., 0., 0.]],\n",
       "\n",
       "       [[0., 0., 0.],\n",
       "        [0., 0., 0.],\n",
       "        [0., 0., 0.],\n",
       "        ...,\n",
       "        [0., 0., 0.],\n",
       "        [0., 0., 0.],\n",
       "        [0., 0., 0.]],\n",
       "\n",
       "       ...,\n",
       "\n",
       "       [[0., 0., 0.],\n",
       "        [0., 0., 0.],\n",
       "        [0., 0., 0.],\n",
       "        ...,\n",
       "        [0., 0., 0.],\n",
       "        [0., 0., 0.],\n",
       "        [0., 0., 0.]],\n",
       "\n",
       "       [[0., 0., 0.],\n",
       "        [0., 0., 0.],\n",
       "        [0., 0., 0.],\n",
       "        ...,\n",
       "        [0., 0., 0.],\n",
       "        [0., 0., 0.],\n",
       "        [0., 0., 0.]],\n",
       "\n",
       "       [[0., 0., 0.],\n",
       "        [0., 0., 0.],\n",
       "        [0., 0., 0.],\n",
       "        ...,\n",
       "        [0., 0., 0.],\n",
       "        [0., 0., 0.],\n",
       "        [0., 0., 0.]]], dtype=float32)"
      ]
     },
     "execution_count": 34,
     "metadata": {},
     "output_type": "execute_result"
    }
   ],
   "source": [
    "x"
   ]
  },
  {
   "cell_type": "code",
   "execution_count": 35,
   "metadata": {},
   "outputs": [
    {
     "data": {
      "text/plain": [
       "(224, 224, 3)"
      ]
     },
     "execution_count": 35,
     "metadata": {},
     "output_type": "execute_result"
    }
   ],
   "source": [
    "x.shape\n"
   ]
  },
  {
   "cell_type": "code",
   "execution_count": 36,
   "metadata": {},
   "outputs": [],
   "source": [
    "x = x/225"
   ]
  },
  {
   "cell_type": "code",
   "execution_count": 37,
   "metadata": {},
   "outputs": [
    {
     "data": {
      "text/plain": [
       "(1, 224, 224, 3)"
      ]
     },
     "execution_count": 37,
     "metadata": {},
     "output_type": "execute_result"
    }
   ],
   "source": [
    "x = np.expand_dims(x, axis = 0)\n",
    "img_data = preprocess_input(x)\n",
    "img_data.shape"
   ]
  },
  {
   "cell_type": "code",
   "execution_count": 38,
   "metadata": {},
   "outputs": [
    {
     "data": {
      "text/plain": [
       "array([[1.0000000e+00, 2.7997578e-16]], dtype=float32)"
      ]
     },
     "execution_count": 38,
     "metadata": {},
     "output_type": "execute_result"
    }
   ],
   "source": [
    "model.predict(img_data)"
   ]
  },
  {
   "cell_type": "code",
   "execution_count": 39,
   "metadata": {},
   "outputs": [],
   "source": [
    "a = np.argmax(model.predict(img_data), axis=1)"
   ]
  },
  {
   "cell_type": "code",
   "execution_count": 40,
   "metadata": {},
   "outputs": [
    {
     "name": "stdout",
     "output_type": "stream",
     "text": [
      "Infected\n"
     ]
    }
   ],
   "source": [
    "if(a==1):\n",
    "    print('Unifected')\n",
    "else:\n",
    "    print('Infected')"
   ]
  },
  {
   "cell_type": "code",
   "execution_count": null,
   "metadata": {},
   "outputs": [],
   "source": []
  }
 ],
 "metadata": {
  "kernelspec": {
   "display_name": "Python 3",
   "language": "python",
   "name": "python3"
  },
  "language_info": {
   "codemirror_mode": {
    "name": "ipython",
    "version": 3
   },
   "file_extension": ".py",
   "mimetype": "text/x-python",
   "name": "python",
   "nbconvert_exporter": "python",
   "pygments_lexer": "ipython3",
   "version": "3.6.9"
  }
 },
 "nbformat": 4,
 "nbformat_minor": 2
}
